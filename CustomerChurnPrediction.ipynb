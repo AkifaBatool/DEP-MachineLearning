{
 "cells": [
  {
   "cell_type": "code",
   "execution_count": 1,
   "id": "ca633d91",
   "metadata": {},
   "outputs": [
    {
     "name": "stderr",
     "output_type": "stream",
     "text": [
      "C:\\Users\\AMB\\anaconda3\\lib\\site-packages\\pandas\\core\\computation\\expressions.py:21: UserWarning: Pandas requires version '2.8.4' or newer of 'numexpr' (version '2.8.1' currently installed).\n",
      "  from pandas.core.computation.check import NUMEXPR_INSTALLED\n",
      "C:\\Users\\AMB\\anaconda3\\lib\\site-packages\\pandas\\core\\arrays\\masked.py:60: UserWarning: Pandas requires version '1.3.6' or newer of 'bottleneck' (version '1.3.4' currently installed).\n",
      "  from pandas.core import (\n"
     ]
    }
   ],
   "source": [
    "import numpy as np\n",
    "import pandas as pd\n",
    "import matplotlib.pyplot as plt\n",
    "import matplotlib as mtl\n",
    "import seaborn as sns\n",
    "import plotly_express as px\n",
    "\n",
    "from sklearn.model_selection import train_test_split\n",
    "from sklearn.preprocessing import LabelEncoder\n",
    "from sklearn.pipeline import Pipeline\n",
    "from sklearn.linear_model import LogisticRegression\n",
    "from sklearn.naive_bayes import MultinomialNB\n",
    "from sklearn.svm import SVC\n",
    "from sklearn.model_selection import GridSearchCV\n",
    "from sklearn.metrics import classification_report, accuracy_score,confusion_matrix,ConfusionMatrixDisplay"
   ]
  },
  {
   "cell_type": "markdown",
   "id": "76cd4023",
   "metadata": {},
   "source": [
    "## Loading DataSet"
   ]
  },
  {
   "cell_type": "code",
   "execution_count": 2,
   "id": "b3388c79",
   "metadata": {},
   "outputs": [],
   "source": [
    "df = pd.read_csv(\"churn-bigml-80.csv\")"
   ]
  },
  {
   "cell_type": "markdown",
   "id": "4354c9c5",
   "metadata": {},
   "source": [
    "## Cleaning Data"
   ]
  },
  {
   "cell_type": "code",
   "execution_count": 3,
   "id": "24272dbf",
   "metadata": {},
   "outputs": [
    {
     "data": {
      "text/html": [
       "<div>\n",
       "<style scoped>\n",
       "    .dataframe tbody tr th:only-of-type {\n",
       "        vertical-align: middle;\n",
       "    }\n",
       "\n",
       "    .dataframe tbody tr th {\n",
       "        vertical-align: top;\n",
       "    }\n",
       "\n",
       "    .dataframe thead th {\n",
       "        text-align: right;\n",
       "    }\n",
       "</style>\n",
       "<table border=\"1\" class=\"dataframe\">\n",
       "  <thead>\n",
       "    <tr style=\"text-align: right;\">\n",
       "      <th></th>\n",
       "      <th>State</th>\n",
       "      <th>Account length</th>\n",
       "      <th>Area code</th>\n",
       "      <th>International plan</th>\n",
       "      <th>Voice mail plan</th>\n",
       "      <th>Number vmail messages</th>\n",
       "      <th>Total day minutes</th>\n",
       "      <th>Total day calls</th>\n",
       "      <th>Total day charge</th>\n",
       "      <th>Total eve minutes</th>\n",
       "      <th>Total eve calls</th>\n",
       "      <th>Total eve charge</th>\n",
       "      <th>Total night minutes</th>\n",
       "      <th>Total night calls</th>\n",
       "      <th>Total night charge</th>\n",
       "      <th>Total intl minutes</th>\n",
       "      <th>Total intl calls</th>\n",
       "      <th>Total intl charge</th>\n",
       "      <th>Customer service calls</th>\n",
       "      <th>Churn</th>\n",
       "    </tr>\n",
       "  </thead>\n",
       "  <tbody>\n",
       "    <tr>\n",
       "      <th>0</th>\n",
       "      <td>KS</td>\n",
       "      <td>128</td>\n",
       "      <td>415</td>\n",
       "      <td>No</td>\n",
       "      <td>Yes</td>\n",
       "      <td>25</td>\n",
       "      <td>265.1</td>\n",
       "      <td>110</td>\n",
       "      <td>45.07</td>\n",
       "      <td>197.4</td>\n",
       "      <td>99</td>\n",
       "      <td>16.78</td>\n",
       "      <td>244.7</td>\n",
       "      <td>91</td>\n",
       "      <td>11.01</td>\n",
       "      <td>10.0</td>\n",
       "      <td>3</td>\n",
       "      <td>2.70</td>\n",
       "      <td>1</td>\n",
       "      <td>False</td>\n",
       "    </tr>\n",
       "    <tr>\n",
       "      <th>1</th>\n",
       "      <td>OH</td>\n",
       "      <td>107</td>\n",
       "      <td>415</td>\n",
       "      <td>No</td>\n",
       "      <td>Yes</td>\n",
       "      <td>26</td>\n",
       "      <td>161.6</td>\n",
       "      <td>123</td>\n",
       "      <td>27.47</td>\n",
       "      <td>195.5</td>\n",
       "      <td>103</td>\n",
       "      <td>16.62</td>\n",
       "      <td>254.4</td>\n",
       "      <td>103</td>\n",
       "      <td>11.45</td>\n",
       "      <td>13.7</td>\n",
       "      <td>3</td>\n",
       "      <td>3.70</td>\n",
       "      <td>1</td>\n",
       "      <td>False</td>\n",
       "    </tr>\n",
       "    <tr>\n",
       "      <th>2</th>\n",
       "      <td>NJ</td>\n",
       "      <td>137</td>\n",
       "      <td>415</td>\n",
       "      <td>No</td>\n",
       "      <td>No</td>\n",
       "      <td>0</td>\n",
       "      <td>243.4</td>\n",
       "      <td>114</td>\n",
       "      <td>41.38</td>\n",
       "      <td>121.2</td>\n",
       "      <td>110</td>\n",
       "      <td>10.30</td>\n",
       "      <td>162.6</td>\n",
       "      <td>104</td>\n",
       "      <td>7.32</td>\n",
       "      <td>12.2</td>\n",
       "      <td>5</td>\n",
       "      <td>3.29</td>\n",
       "      <td>0</td>\n",
       "      <td>False</td>\n",
       "    </tr>\n",
       "    <tr>\n",
       "      <th>3</th>\n",
       "      <td>OH</td>\n",
       "      <td>84</td>\n",
       "      <td>408</td>\n",
       "      <td>Yes</td>\n",
       "      <td>No</td>\n",
       "      <td>0</td>\n",
       "      <td>299.4</td>\n",
       "      <td>71</td>\n",
       "      <td>50.90</td>\n",
       "      <td>61.9</td>\n",
       "      <td>88</td>\n",
       "      <td>5.26</td>\n",
       "      <td>196.9</td>\n",
       "      <td>89</td>\n",
       "      <td>8.86</td>\n",
       "      <td>6.6</td>\n",
       "      <td>7</td>\n",
       "      <td>1.78</td>\n",
       "      <td>2</td>\n",
       "      <td>False</td>\n",
       "    </tr>\n",
       "    <tr>\n",
       "      <th>4</th>\n",
       "      <td>OK</td>\n",
       "      <td>75</td>\n",
       "      <td>415</td>\n",
       "      <td>Yes</td>\n",
       "      <td>No</td>\n",
       "      <td>0</td>\n",
       "      <td>166.7</td>\n",
       "      <td>113</td>\n",
       "      <td>28.34</td>\n",
       "      <td>148.3</td>\n",
       "      <td>122</td>\n",
       "      <td>12.61</td>\n",
       "      <td>186.9</td>\n",
       "      <td>121</td>\n",
       "      <td>8.41</td>\n",
       "      <td>10.1</td>\n",
       "      <td>3</td>\n",
       "      <td>2.73</td>\n",
       "      <td>3</td>\n",
       "      <td>False</td>\n",
       "    </tr>\n",
       "  </tbody>\n",
       "</table>\n",
       "</div>"
      ],
      "text/plain": [
       "  State  Account length  Area code International plan Voice mail plan  \\\n",
       "0    KS             128        415                 No             Yes   \n",
       "1    OH             107        415                 No             Yes   \n",
       "2    NJ             137        415                 No              No   \n",
       "3    OH              84        408                Yes              No   \n",
       "4    OK              75        415                Yes              No   \n",
       "\n",
       "   Number vmail messages  Total day minutes  Total day calls  \\\n",
       "0                     25              265.1              110   \n",
       "1                     26              161.6              123   \n",
       "2                      0              243.4              114   \n",
       "3                      0              299.4               71   \n",
       "4                      0              166.7              113   \n",
       "\n",
       "   Total day charge  Total eve minutes  Total eve calls  Total eve charge  \\\n",
       "0             45.07              197.4               99             16.78   \n",
       "1             27.47              195.5              103             16.62   \n",
       "2             41.38              121.2              110             10.30   \n",
       "3             50.90               61.9               88              5.26   \n",
       "4             28.34              148.3              122             12.61   \n",
       "\n",
       "   Total night minutes  Total night calls  Total night charge  \\\n",
       "0                244.7                 91               11.01   \n",
       "1                254.4                103               11.45   \n",
       "2                162.6                104                7.32   \n",
       "3                196.9                 89                8.86   \n",
       "4                186.9                121                8.41   \n",
       "\n",
       "   Total intl minutes  Total intl calls  Total intl charge  \\\n",
       "0                10.0                 3               2.70   \n",
       "1                13.7                 3               3.70   \n",
       "2                12.2                 5               3.29   \n",
       "3                 6.6                 7               1.78   \n",
       "4                10.1                 3               2.73   \n",
       "\n",
       "   Customer service calls  Churn  \n",
       "0                       1  False  \n",
       "1                       1  False  \n",
       "2                       0  False  \n",
       "3                       2  False  \n",
       "4                       3  False  "
      ]
     },
     "execution_count": 3,
     "metadata": {},
     "output_type": "execute_result"
    }
   ],
   "source": [
    "df.head()"
   ]
  },
  {
   "cell_type": "code",
   "execution_count": 4,
   "id": "605ad4cb",
   "metadata": {},
   "outputs": [
    {
     "name": "stdout",
     "output_type": "stream",
     "text": [
      "<class 'pandas.core.frame.DataFrame'>\n",
      "RangeIndex: 2666 entries, 0 to 2665\n",
      "Data columns (total 20 columns):\n",
      " #   Column                  Non-Null Count  Dtype  \n",
      "---  ------                  --------------  -----  \n",
      " 0   State                   2666 non-null   object \n",
      " 1   Account length          2666 non-null   int64  \n",
      " 2   Area code               2666 non-null   int64  \n",
      " 3   International plan      2666 non-null   object \n",
      " 4   Voice mail plan         2666 non-null   object \n",
      " 5   Number vmail messages   2666 non-null   int64  \n",
      " 6   Total day minutes       2666 non-null   float64\n",
      " 7   Total day calls         2666 non-null   int64  \n",
      " 8   Total day charge        2666 non-null   float64\n",
      " 9   Total eve minutes       2666 non-null   float64\n",
      " 10  Total eve calls         2666 non-null   int64  \n",
      " 11  Total eve charge        2666 non-null   float64\n",
      " 12  Total night minutes     2666 non-null   float64\n",
      " 13  Total night calls       2666 non-null   int64  \n",
      " 14  Total night charge      2666 non-null   float64\n",
      " 15  Total intl minutes      2666 non-null   float64\n",
      " 16  Total intl calls        2666 non-null   int64  \n",
      " 17  Total intl charge       2666 non-null   float64\n",
      " 18  Customer service calls  2666 non-null   int64  \n",
      " 19  Churn                   2666 non-null   bool   \n",
      "dtypes: bool(1), float64(8), int64(8), object(3)\n",
      "memory usage: 398.5+ KB\n"
     ]
    }
   ],
   "source": [
    "df.info()"
   ]
  },
  {
   "cell_type": "code",
   "execution_count": 5,
   "id": "91483d70",
   "metadata": {},
   "outputs": [
    {
     "data": {
      "text/html": [
       "<div>\n",
       "<style scoped>\n",
       "    .dataframe tbody tr th:only-of-type {\n",
       "        vertical-align: middle;\n",
       "    }\n",
       "\n",
       "    .dataframe tbody tr th {\n",
       "        vertical-align: top;\n",
       "    }\n",
       "\n",
       "    .dataframe thead th {\n",
       "        text-align: right;\n",
       "    }\n",
       "</style>\n",
       "<table border=\"1\" class=\"dataframe\">\n",
       "  <thead>\n",
       "    <tr style=\"text-align: right;\">\n",
       "      <th></th>\n",
       "      <th>Account length</th>\n",
       "      <th>Area code</th>\n",
       "      <th>Number vmail messages</th>\n",
       "      <th>Total day minutes</th>\n",
       "      <th>Total day calls</th>\n",
       "      <th>Total day charge</th>\n",
       "      <th>Total eve minutes</th>\n",
       "      <th>Total eve calls</th>\n",
       "      <th>Total eve charge</th>\n",
       "      <th>Total night minutes</th>\n",
       "      <th>Total night calls</th>\n",
       "      <th>Total night charge</th>\n",
       "      <th>Total intl minutes</th>\n",
       "      <th>Total intl calls</th>\n",
       "      <th>Total intl charge</th>\n",
       "      <th>Customer service calls</th>\n",
       "    </tr>\n",
       "  </thead>\n",
       "  <tbody>\n",
       "    <tr>\n",
       "      <th>count</th>\n",
       "      <td>2666.000000</td>\n",
       "      <td>2666.000000</td>\n",
       "      <td>2666.000000</td>\n",
       "      <td>2666.00000</td>\n",
       "      <td>2666.000000</td>\n",
       "      <td>2666.000000</td>\n",
       "      <td>2666.000000</td>\n",
       "      <td>2666.000000</td>\n",
       "      <td>2666.000000</td>\n",
       "      <td>2666.000000</td>\n",
       "      <td>2666.000000</td>\n",
       "      <td>2666.000000</td>\n",
       "      <td>2666.000000</td>\n",
       "      <td>2666.000000</td>\n",
       "      <td>2666.000000</td>\n",
       "      <td>2666.000000</td>\n",
       "    </tr>\n",
       "    <tr>\n",
       "      <th>mean</th>\n",
       "      <td>100.620405</td>\n",
       "      <td>437.438860</td>\n",
       "      <td>8.021755</td>\n",
       "      <td>179.48162</td>\n",
       "      <td>100.310203</td>\n",
       "      <td>30.512404</td>\n",
       "      <td>200.386159</td>\n",
       "      <td>100.023631</td>\n",
       "      <td>17.033072</td>\n",
       "      <td>201.168942</td>\n",
       "      <td>100.106152</td>\n",
       "      <td>9.052689</td>\n",
       "      <td>10.237022</td>\n",
       "      <td>4.467367</td>\n",
       "      <td>2.764490</td>\n",
       "      <td>1.562641</td>\n",
       "    </tr>\n",
       "    <tr>\n",
       "      <th>std</th>\n",
       "      <td>39.563974</td>\n",
       "      <td>42.521018</td>\n",
       "      <td>13.612277</td>\n",
       "      <td>54.21035</td>\n",
       "      <td>19.988162</td>\n",
       "      <td>9.215733</td>\n",
       "      <td>50.951515</td>\n",
       "      <td>20.161445</td>\n",
       "      <td>4.330864</td>\n",
       "      <td>50.780323</td>\n",
       "      <td>19.418459</td>\n",
       "      <td>2.285120</td>\n",
       "      <td>2.788349</td>\n",
       "      <td>2.456195</td>\n",
       "      <td>0.752812</td>\n",
       "      <td>1.311236</td>\n",
       "    </tr>\n",
       "    <tr>\n",
       "      <th>min</th>\n",
       "      <td>1.000000</td>\n",
       "      <td>408.000000</td>\n",
       "      <td>0.000000</td>\n",
       "      <td>0.00000</td>\n",
       "      <td>0.000000</td>\n",
       "      <td>0.000000</td>\n",
       "      <td>0.000000</td>\n",
       "      <td>0.000000</td>\n",
       "      <td>0.000000</td>\n",
       "      <td>43.700000</td>\n",
       "      <td>33.000000</td>\n",
       "      <td>1.970000</td>\n",
       "      <td>0.000000</td>\n",
       "      <td>0.000000</td>\n",
       "      <td>0.000000</td>\n",
       "      <td>0.000000</td>\n",
       "    </tr>\n",
       "    <tr>\n",
       "      <th>25%</th>\n",
       "      <td>73.000000</td>\n",
       "      <td>408.000000</td>\n",
       "      <td>0.000000</td>\n",
       "      <td>143.40000</td>\n",
       "      <td>87.000000</td>\n",
       "      <td>24.380000</td>\n",
       "      <td>165.300000</td>\n",
       "      <td>87.000000</td>\n",
       "      <td>14.050000</td>\n",
       "      <td>166.925000</td>\n",
       "      <td>87.000000</td>\n",
       "      <td>7.512500</td>\n",
       "      <td>8.500000</td>\n",
       "      <td>3.000000</td>\n",
       "      <td>2.300000</td>\n",
       "      <td>1.000000</td>\n",
       "    </tr>\n",
       "    <tr>\n",
       "      <th>50%</th>\n",
       "      <td>100.000000</td>\n",
       "      <td>415.000000</td>\n",
       "      <td>0.000000</td>\n",
       "      <td>179.95000</td>\n",
       "      <td>101.000000</td>\n",
       "      <td>30.590000</td>\n",
       "      <td>200.900000</td>\n",
       "      <td>100.000000</td>\n",
       "      <td>17.080000</td>\n",
       "      <td>201.150000</td>\n",
       "      <td>100.000000</td>\n",
       "      <td>9.050000</td>\n",
       "      <td>10.200000</td>\n",
       "      <td>4.000000</td>\n",
       "      <td>2.750000</td>\n",
       "      <td>1.000000</td>\n",
       "    </tr>\n",
       "    <tr>\n",
       "      <th>75%</th>\n",
       "      <td>127.000000</td>\n",
       "      <td>510.000000</td>\n",
       "      <td>19.000000</td>\n",
       "      <td>215.90000</td>\n",
       "      <td>114.000000</td>\n",
       "      <td>36.700000</td>\n",
       "      <td>235.100000</td>\n",
       "      <td>114.000000</td>\n",
       "      <td>19.980000</td>\n",
       "      <td>236.475000</td>\n",
       "      <td>113.000000</td>\n",
       "      <td>10.640000</td>\n",
       "      <td>12.100000</td>\n",
       "      <td>6.000000</td>\n",
       "      <td>3.270000</td>\n",
       "      <td>2.000000</td>\n",
       "    </tr>\n",
       "    <tr>\n",
       "      <th>max</th>\n",
       "      <td>243.000000</td>\n",
       "      <td>510.000000</td>\n",
       "      <td>50.000000</td>\n",
       "      <td>350.80000</td>\n",
       "      <td>160.000000</td>\n",
       "      <td>59.640000</td>\n",
       "      <td>363.700000</td>\n",
       "      <td>170.000000</td>\n",
       "      <td>30.910000</td>\n",
       "      <td>395.000000</td>\n",
       "      <td>166.000000</td>\n",
       "      <td>17.770000</td>\n",
       "      <td>20.000000</td>\n",
       "      <td>20.000000</td>\n",
       "      <td>5.400000</td>\n",
       "      <td>9.000000</td>\n",
       "    </tr>\n",
       "  </tbody>\n",
       "</table>\n",
       "</div>"
      ],
      "text/plain": [
       "       Account length    Area code  Number vmail messages  Total day minutes  \\\n",
       "count     2666.000000  2666.000000            2666.000000         2666.00000   \n",
       "mean       100.620405   437.438860               8.021755          179.48162   \n",
       "std         39.563974    42.521018              13.612277           54.21035   \n",
       "min          1.000000   408.000000               0.000000            0.00000   \n",
       "25%         73.000000   408.000000               0.000000          143.40000   \n",
       "50%        100.000000   415.000000               0.000000          179.95000   \n",
       "75%        127.000000   510.000000              19.000000          215.90000   \n",
       "max        243.000000   510.000000              50.000000          350.80000   \n",
       "\n",
       "       Total day calls  Total day charge  Total eve minutes  Total eve calls  \\\n",
       "count      2666.000000       2666.000000        2666.000000      2666.000000   \n",
       "mean        100.310203         30.512404         200.386159       100.023631   \n",
       "std          19.988162          9.215733          50.951515        20.161445   \n",
       "min           0.000000          0.000000           0.000000         0.000000   \n",
       "25%          87.000000         24.380000         165.300000        87.000000   \n",
       "50%         101.000000         30.590000         200.900000       100.000000   \n",
       "75%         114.000000         36.700000         235.100000       114.000000   \n",
       "max         160.000000         59.640000         363.700000       170.000000   \n",
       "\n",
       "       Total eve charge  Total night minutes  Total night calls  \\\n",
       "count       2666.000000          2666.000000        2666.000000   \n",
       "mean          17.033072           201.168942         100.106152   \n",
       "std            4.330864            50.780323          19.418459   \n",
       "min            0.000000            43.700000          33.000000   \n",
       "25%           14.050000           166.925000          87.000000   \n",
       "50%           17.080000           201.150000         100.000000   \n",
       "75%           19.980000           236.475000         113.000000   \n",
       "max           30.910000           395.000000         166.000000   \n",
       "\n",
       "       Total night charge  Total intl minutes  Total intl calls  \\\n",
       "count         2666.000000         2666.000000       2666.000000   \n",
       "mean             9.052689           10.237022          4.467367   \n",
       "std              2.285120            2.788349          2.456195   \n",
       "min              1.970000            0.000000          0.000000   \n",
       "25%              7.512500            8.500000          3.000000   \n",
       "50%              9.050000           10.200000          4.000000   \n",
       "75%             10.640000           12.100000          6.000000   \n",
       "max             17.770000           20.000000         20.000000   \n",
       "\n",
       "       Total intl charge  Customer service calls  \n",
       "count        2666.000000             2666.000000  \n",
       "mean            2.764490                1.562641  \n",
       "std             0.752812                1.311236  \n",
       "min             0.000000                0.000000  \n",
       "25%             2.300000                1.000000  \n",
       "50%             2.750000                1.000000  \n",
       "75%             3.270000                2.000000  \n",
       "max             5.400000                9.000000  "
      ]
     },
     "execution_count": 5,
     "metadata": {},
     "output_type": "execute_result"
    }
   ],
   "source": [
    "df.describe()"
   ]
  },
  {
   "cell_type": "code",
   "execution_count": 6,
   "id": "e9661a49",
   "metadata": {},
   "outputs": [
    {
     "data": {
      "text/plain": [
       "State                     0\n",
       "Account length            0\n",
       "Area code                 0\n",
       "International plan        0\n",
       "Voice mail plan           0\n",
       "Number vmail messages     0\n",
       "Total day minutes         0\n",
       "Total day calls           0\n",
       "Total day charge          0\n",
       "Total eve minutes         0\n",
       "Total eve calls           0\n",
       "Total eve charge          0\n",
       "Total night minutes       0\n",
       "Total night calls         0\n",
       "Total night charge        0\n",
       "Total intl minutes        0\n",
       "Total intl calls          0\n",
       "Total intl charge         0\n",
       "Customer service calls    0\n",
       "Churn                     0\n",
       "dtype: int64"
      ]
     },
     "execution_count": 6,
     "metadata": {},
     "output_type": "execute_result"
    }
   ],
   "source": [
    "df.isnull().sum()"
   ]
  },
  {
   "cell_type": "markdown",
   "id": "173efe08",
   "metadata": {},
   "source": [
    "## Exploratory Data Analysis"
   ]
  },
  {
   "cell_type": "code",
   "execution_count": 7,
   "id": "855ab31c",
   "metadata": {},
   "outputs": [],
   "source": [
    "stateareacode=df.groupby(['State','Area code'])[['Account length']].count()"
   ]
  },
  {
   "cell_type": "code",
   "execution_count": 8,
   "id": "96d572d7",
   "metadata": {},
   "outputs": [
    {
     "data": {
      "text/html": [
       "<div>\n",
       "<style scoped>\n",
       "    .dataframe tbody tr th:only-of-type {\n",
       "        vertical-align: middle;\n",
       "    }\n",
       "\n",
       "    .dataframe tbody tr th {\n",
       "        vertical-align: top;\n",
       "    }\n",
       "\n",
       "    .dataframe thead th {\n",
       "        text-align: right;\n",
       "    }\n",
       "</style>\n",
       "<table border=\"1\" class=\"dataframe\">\n",
       "  <thead>\n",
       "    <tr style=\"text-align: right;\">\n",
       "      <th></th>\n",
       "      <th></th>\n",
       "      <th>Account length</th>\n",
       "    </tr>\n",
       "    <tr>\n",
       "      <th>State</th>\n",
       "      <th>Area code</th>\n",
       "      <th></th>\n",
       "    </tr>\n",
       "  </thead>\n",
       "  <tbody>\n",
       "    <tr>\n",
       "      <th rowspan=\"3\" valign=\"top\">AK</th>\n",
       "      <th>408</th>\n",
       "      <td>9</td>\n",
       "    </tr>\n",
       "    <tr>\n",
       "      <th>415</th>\n",
       "      <td>21</td>\n",
       "    </tr>\n",
       "    <tr>\n",
       "      <th>510</th>\n",
       "      <td>13</td>\n",
       "    </tr>\n",
       "    <tr>\n",
       "      <th rowspan=\"2\" valign=\"top\">AL</th>\n",
       "      <th>408</th>\n",
       "      <td>22</td>\n",
       "    </tr>\n",
       "    <tr>\n",
       "      <th>415</th>\n",
       "      <td>32</td>\n",
       "    </tr>\n",
       "    <tr>\n",
       "      <th>...</th>\n",
       "      <th>...</th>\n",
       "      <td>...</td>\n",
       "    </tr>\n",
       "    <tr>\n",
       "      <th rowspan=\"2\" valign=\"top\">WV</th>\n",
       "      <th>415</th>\n",
       "      <td>46</td>\n",
       "    </tr>\n",
       "    <tr>\n",
       "      <th>510</th>\n",
       "      <td>27</td>\n",
       "    </tr>\n",
       "    <tr>\n",
       "      <th rowspan=\"3\" valign=\"top\">WY</th>\n",
       "      <th>408</th>\n",
       "      <td>15</td>\n",
       "    </tr>\n",
       "    <tr>\n",
       "      <th>415</th>\n",
       "      <td>35</td>\n",
       "    </tr>\n",
       "    <tr>\n",
       "      <th>510</th>\n",
       "      <td>16</td>\n",
       "    </tr>\n",
       "  </tbody>\n",
       "</table>\n",
       "<p>153 rows × 1 columns</p>\n",
       "</div>"
      ],
      "text/plain": [
       "                 Account length\n",
       "State Area code                \n",
       "AK    408                     9\n",
       "      415                    21\n",
       "      510                    13\n",
       "AL    408                    22\n",
       "      415                    32\n",
       "...                         ...\n",
       "WV    415                    46\n",
       "      510                    27\n",
       "WY    408                    15\n",
       "      415                    35\n",
       "      510                    16\n",
       "\n",
       "[153 rows x 1 columns]"
      ]
     },
     "execution_count": 8,
     "metadata": {},
     "output_type": "execute_result"
    }
   ],
   "source": [
    "stateareacode"
   ]
  },
  {
   "cell_type": "code",
   "execution_count": 9,
   "id": "8db1ac16",
   "metadata": {},
   "outputs": [
    {
     "name": "stdout",
     "output_type": "stream",
     "text": [
      "Description of the Categorical Dataset:\n"
     ]
    },
    {
     "data": {
      "text/html": [
       "<div>\n",
       "<style scoped>\n",
       "    .dataframe tbody tr th:only-of-type {\n",
       "        vertical-align: middle;\n",
       "    }\n",
       "\n",
       "    .dataframe tbody tr th {\n",
       "        vertical-align: top;\n",
       "    }\n",
       "\n",
       "    .dataframe thead th {\n",
       "        text-align: right;\n",
       "    }\n",
       "</style>\n",
       "<table border=\"1\" class=\"dataframe\">\n",
       "  <thead>\n",
       "    <tr style=\"text-align: right;\">\n",
       "      <th></th>\n",
       "      <th>count</th>\n",
       "      <th>unique</th>\n",
       "      <th>top</th>\n",
       "      <th>freq</th>\n",
       "    </tr>\n",
       "  </thead>\n",
       "  <tbody>\n",
       "    <tr>\n",
       "      <th>State</th>\n",
       "      <td>2666</td>\n",
       "      <td>51</td>\n",
       "      <td>WV</td>\n",
       "      <td>88</td>\n",
       "    </tr>\n",
       "    <tr>\n",
       "      <th>International plan</th>\n",
       "      <td>2666</td>\n",
       "      <td>2</td>\n",
       "      <td>No</td>\n",
       "      <td>2396</td>\n",
       "    </tr>\n",
       "    <tr>\n",
       "      <th>Voice mail plan</th>\n",
       "      <td>2666</td>\n",
       "      <td>2</td>\n",
       "      <td>No</td>\n",
       "      <td>1933</td>\n",
       "    </tr>\n",
       "    <tr>\n",
       "      <th>Churn</th>\n",
       "      <td>2666</td>\n",
       "      <td>2</td>\n",
       "      <td>False</td>\n",
       "      <td>2278</td>\n",
       "    </tr>\n",
       "  </tbody>\n",
       "</table>\n",
       "</div>"
      ],
      "text/plain": [
       "                   count unique    top  freq\n",
       "State               2666     51     WV    88\n",
       "International plan  2666      2     No  2396\n",
       "Voice mail plan     2666      2     No  1933\n",
       "Churn               2666      2  False  2278"
      ]
     },
     "execution_count": 9,
     "metadata": {},
     "output_type": "execute_result"
    }
   ],
   "source": [
    "print('Description of the Categorical Dataset:')\n",
    "df.describe(include=['object', 'bool']).T"
   ]
  },
  {
   "cell_type": "code",
   "execution_count": 10,
   "id": "5f5d4cd2",
   "metadata": {},
   "outputs": [],
   "source": [
    "def draw_categorical_plot(data, figsize=(8, 6), colors=None):\n",
    "    \n",
    "    if not isinstance(data, pd.Series):\n",
    "        raise ValueError(\"Input data should be a categorical data.\")\n",
    "    \n",
    "    # Count the occurrences of each category in the data\n",
    "    counts = data.value_counts()\n",
    "    \n",
    "    # Create a figure and axes\n",
    "    fig, ax = plt.subplots(figsize=figsize)\n",
    "    \n",
    "    # If there are less than 6 unique observations, draw a pie chart\n",
    "    if len(counts) <= 5:\n",
    "        counts.plot(kind='pie', autopct='%1.1f%%', colors=colors, ax=ax)\n",
    "        ax.set_title(\"Pie Chart of \" + data.name)\n",
    "        ax.set_ylabel(\"\")  # This is to remove the column name from the side of the pie chart\n",
    "    else:\n",
    "        # Otherwise, draw a bar chart\n",
    "        sns.barplot(x=counts.index, y=counts.values, palette=colors, ax=ax)\n",
    "        ax.set_title(\"Bar Chart of \" + data.name)\n",
    "        ax.set_ylabel(\"Count\")\n",
    "    \n",
    "    plt.tight_layout()\n",
    "\n"
   ]
  },
  {
   "cell_type": "code",
   "execution_count": 11,
   "id": "fa5f5b2f",
   "metadata": {},
   "outputs": [],
   "source": [
    "def plot_data(df, numeric_col, category_col=None):\n",
    "    plt.figure(figsize=(10, 8))\n",
    "    \n",
    "    # Plotting histogram using seaborn\n",
    "    sns.histplot(data=df, x=numeric_col, kde=True, hue=category_col)\n",
    "    \n",
    "    plt.title(f'Distribution of {numeric_col}')\n",
    "    plt.ylabel('Frequency')\n",
    "    plt.xlabel(numeric_col)\n"
   ]
  },
  {
   "cell_type": "code",
   "execution_count": 12,
   "id": "b45abbd0",
   "metadata": {},
   "outputs": [],
   "source": [
    "def draw_numeric_plot(data):\n",
    "    \n",
    "    num_unique = data.nunique()\n",
    "    \n",
    "    if num_unique == 2:\n",
    "        # Donut chart\n",
    "        plt.figure(figsize=(8, 6))\n",
    "        # Extract the value counts and labels\n",
    "        counts = data.value_counts()\n",
    "        labels = counts.index\n",
    "\n",
    "        # Plot\n",
    "        wedges, texts, autotexts = plt.pie(counts, labels=labels, wedgeprops=dict(width=0.4), \n",
    "                                           autopct='%1.1f%%', startangle=140, pctdistance=0.85)\n",
    "    \n",
    "        # Draw center circle for 'donut' style\n",
    "        centre_circle = plt.Circle((0,0),0.70,fc='white')\n",
    "        plt.gca().add_artist(centre_circle)\n",
    "\n",
    "        # Improve text visibility\n",
    "        for text, autotext in zip(texts, autotexts):\n",
    "            text.set(size=12)\n",
    "            autotext.set(size=12)\n",
    "\n",
    "        plt.title(f\"Donut Chart of {data.name}\")\n",
    "        plt.ylabel(\"\")  # Remove automatic label\n",
    "        plt.legend(loc=\"best\")  # Display a legend\n",
    "    \n",
    "    elif 3 <= num_unique <= 50:\n",
    "        # Bar chart\n",
    "        plt.figure(figsize=(12, 6))\n",
    "        data.value_counts().sort_index().plot(kind='bar', color='skyblue')\n",
    "        plt.title(f\"Bar Chart for {data.name}\")\n",
    "        plt.ylabel(\"Frequency\")\n",
    "        plt.xlabel(data.name)\n",
    "    \n",
    "    elif 51 <= num_unique < 90:\n",
    "        # Simple histogram\n",
    "        plt.figure(figsize=(12, 6))\n",
    "        plt.hist(data, bins=30, edgecolor='black', color='skyblue')\n",
    "        plt.title(f\"Histogram of {data.name}\")\n",
    "        plt.ylabel(\"Frequency\")\n",
    "        plt.xlabel(data.name)\n",
    "    \n",
    "    elif num_unique >= 90:\n",
    "        # Histogram and boxplot\n",
    "        fig, ax = plt.subplots(1, 2, figsize=(15, 6))\n",
    "        \n",
    "        ax[0].hist(data, bins=30, edgecolor='black', color='skyblue')\n",
    "        ax[0].set_title(f\"Histogram of {data.name}\")\n",
    "        ax[0].set_ylabel(\"Frequency\")\n",
    "        ax[0].set_xlabel(data.name)\n",
    "        \n",
    "        ax[1].boxplot(data, vert=False)\n",
    "        ax[1].set_title(f\"Boxplot of {data.name}\")\n",
    "        ax[1].set_yticklabels([data.name])\n",
    "    \n",
    "    plt.tight_layout()"
   ]
  },
  {
   "cell_type": "code",
   "execution_count": 13,
   "id": "bb08bf7a",
   "metadata": {},
   "outputs": [
    {
     "data": {
      "image/png": "[encoded data removed]",
      "text/plain": [
       "<Figure size 576x432 with 1 Axes>"
      ]
     },
     "metadata": {},
     "output_type": "display_data"
    }
   ],
   "source": [
    "draw_categorical_plot(df['Churn'])"
   ]
  },
  {
   "cell_type": "code",
   "execution_count": 14,
   "id": "83aee770",
   "metadata": {},
   "outputs": [
    {
     "data": {
      "image/png": "[encoded data removed]",
      "text/plain": [
       "<Figure size 576x432 with 1 Axes>"
      ]
     },
     "metadata": {},
     "output_type": "display_data"
    }
   ],
   "source": [
    "draw_categorical_plot(df['Voice mail plan'])"
   ]
  },
  {
   "cell_type": "code",
   "execution_count": 15,
   "id": "f49a4dc1",
   "metadata": {},
   "outputs": [
    {
     "data": {
      "text/plain": [
       "<Axes: xlabel='Voice mail plan', ylabel='count'>"
      ]
     },
     "execution_count": 15,
     "metadata": {},
     "output_type": "execute_result"
    },
    {
     "data": {
      "image/png": "[encoded data removed]",
      "text/plain": [
       "<Figure size 576x432 with 1 Axes>"
      ]
     },
     "metadata": {
      "needs_background": "light"
     },
     "output_type": "display_data"
    }
   ],
   "source": [
    "plt.figure(figsize=(8, 6))\n",
    "sns.countplot(data=df, x = 'Voice mail plan', hue = 'Churn')"
   ]
  },
  {
   "cell_type": "code",
   "execution_count": 16,
   "id": "82a487f3",
   "metadata": {},
   "outputs": [
    {
     "data": {
      "image/png": "[encoded data removed]",
      "text/plain": [
       "<Figure size 864x432 with 1 Axes>"
      ]
     },
     "metadata": {
      "needs_background": "light"
     },
     "output_type": "display_data"
    }
   ],
   "source": [
    "draw_numeric_plot(df['Customer service calls'])"
   ]
  },
  {
   "cell_type": "code",
   "execution_count": 17,
   "id": "686e9e72",
   "metadata": {},
   "outputs": [
    {
     "data": {
      "image/png": "[encoded data removed]",
      "text/plain": [
       "<Figure size 720x576 with 1 Axes>"
      ]
     },
     "metadata": {
      "needs_background": "light"
     },
     "output_type": "display_data"
    }
   ],
   "source": [
    "plot_data(df, 'Customer service calls', 'Churn')"
   ]
  },
  {
   "cell_type": "code",
   "execution_count": 18,
   "id": "4cbc874b",
   "metadata": {},
   "outputs": [
    {
     "data": {
      "image/png": "[encoded data removed]",
      "text/plain": [
       "<Figure size 1080x432 with 2 Axes>"
      ]
     },
     "metadata": {
      "needs_background": "light"
     },
     "output_type": "display_data"
    }
   ],
   "source": [
    "draw_numeric_plot(df['Account length'])"
   ]
  },
  {
   "cell_type": "code",
   "execution_count": 19,
   "id": "e07f86cb",
   "metadata": {},
   "outputs": [
    {
     "data": {
      "image/png": "[encoded data removed]",
      "text/plain": [
       "<Figure size 720x576 with 1 Axes>"
      ]
     },
     "metadata": {
      "needs_background": "light"
     },
     "output_type": "display_data"
    }
   ],
   "source": [
    "plot_data(df, 'Account length', 'Churn')"
   ]
  },
  {
   "cell_type": "code",
   "execution_count": 20,
   "id": "90fd8c37",
   "metadata": {},
   "outputs": [
    {
     "data": {
      "image/png": "[encoded data removed]",
      "text/plain": [
       "<Figure size 720x576 with 1 Axes>"
      ]
     },
     "metadata": {
      "needs_background": "light"
     },
     "output_type": "display_data"
    }
   ],
   "source": [
    "plt.figure(figsize=(10, 8))\n",
    "sns.countplot(x='State', data=df)\n",
    "plt.xticks(rotation=90)\n",
    "plt.show()"
   ]
  },
  {
   "cell_type": "code",
   "execution_count": 21,
   "id": "356a0eb0",
   "metadata": {},
   "outputs": [
    {
     "data": {
      "image/png": "[encoded data removed]",
      "text/plain": [
       "<Figure size 576x432 with 1 Axes>"
      ]
     },
     "metadata": {},
     "output_type": "display_data"
    }
   ],
   "source": [
    "draw_numeric_plot(df['International plan'])"
   ]
  },
  {
   "cell_type": "markdown",
   "id": "eddeb031",
   "metadata": {},
   "source": [
    "## Feature Enginnering"
   ]
  },
  {
   "cell_type": "code",
   "execution_count": 22,
   "id": "9dfe1949",
   "metadata": {},
   "outputs": [
    {
     "name": "stdout",
     "output_type": "stream",
     "text": [
      "Chi2 value: 25.65625337995575\n",
      "P-value: 4.079713016862758e-07\n"
     ]
    }
   ],
   "source": [
    "from scipy.stats import chi2_contingency\n",
    "\n",
    "contingency_table = pd.crosstab(df['Voice mail plan'], df['Churn'])\n",
    "chi2, p, _, _ = chi2_contingency(contingency_table)\n",
    "\n",
    "print(f\"Chi2 value: {chi2}\")\n",
    "print(f\"P-value: {p}\")"
   ]
  },
  {
   "cell_type": "code",
   "execution_count": 23,
   "id": "578cb6b5",
   "metadata": {},
   "outputs": [],
   "source": [
    "le=LabelEncoder()\n",
    "df['State']=le.fit_transform(df['State'])"
   ]
  },
  {
   "cell_type": "code",
   "execution_count": 24,
   "id": "c60d4de7",
   "metadata": {},
   "outputs": [],
   "source": [
    "df['International plan']=le.fit_transform(df['International plan'])"
   ]
  },
  {
   "cell_type": "code",
   "execution_count": 25,
   "id": "b7ac68d9",
   "metadata": {},
   "outputs": [],
   "source": [
    "df['Voice mail plan']=le.fit_transform(df['Voice mail plan'])"
   ]
  },
  {
   "cell_type": "code",
   "execution_count": 26,
   "id": "81149925",
   "metadata": {},
   "outputs": [],
   "source": [
    "df['Churn']=le.fit_transform(df['Churn'])\n",
    "y=df['Churn']"
   ]
  },
  {
   "cell_type": "code",
   "execution_count": 27,
   "id": "862c7bca",
   "metadata": {},
   "outputs": [
    {
     "data": {
      "text/html": [
       "<div>\n",
       "<style scoped>\n",
       "    .dataframe tbody tr th:only-of-type {\n",
       "        vertical-align: middle;\n",
       "    }\n",
       "\n",
       "    .dataframe tbody tr th {\n",
       "        vertical-align: top;\n",
       "    }\n",
       "\n",
       "    .dataframe thead th {\n",
       "        text-align: right;\n",
       "    }\n",
       "</style>\n",
       "<table border=\"1\" class=\"dataframe\">\n",
       "  <thead>\n",
       "    <tr style=\"text-align: right;\">\n",
       "      <th></th>\n",
       "      <th>State</th>\n",
       "      <th>Account length</th>\n",
       "      <th>Area code</th>\n",
       "      <th>International plan</th>\n",
       "      <th>Voice mail plan</th>\n",
       "      <th>Number vmail messages</th>\n",
       "      <th>Total day minutes</th>\n",
       "      <th>Total day calls</th>\n",
       "      <th>Total day charge</th>\n",
       "      <th>Total eve minutes</th>\n",
       "      <th>Total eve calls</th>\n",
       "      <th>Total eve charge</th>\n",
       "      <th>Total night minutes</th>\n",
       "      <th>Total night calls</th>\n",
       "      <th>Total night charge</th>\n",
       "      <th>Total intl minutes</th>\n",
       "      <th>Total intl calls</th>\n",
       "      <th>Total intl charge</th>\n",
       "      <th>Customer service calls</th>\n",
       "      <th>Churn</th>\n",
       "    </tr>\n",
       "  </thead>\n",
       "  <tbody>\n",
       "    <tr>\n",
       "      <th>0</th>\n",
       "      <td>16</td>\n",
       "      <td>128</td>\n",
       "      <td>415</td>\n",
       "      <td>0</td>\n",
       "      <td>1</td>\n",
       "      <td>25</td>\n",
       "      <td>265.1</td>\n",
       "      <td>110</td>\n",
       "      <td>45.07</td>\n",
       "      <td>197.4</td>\n",
       "      <td>99</td>\n",
       "      <td>16.78</td>\n",
       "      <td>244.7</td>\n",
       "      <td>91</td>\n",
       "      <td>11.01</td>\n",
       "      <td>10.0</td>\n",
       "      <td>3</td>\n",
       "      <td>2.70</td>\n",
       "      <td>1</td>\n",
       "      <td>0</td>\n",
       "    </tr>\n",
       "    <tr>\n",
       "      <th>1</th>\n",
       "      <td>35</td>\n",
       "      <td>107</td>\n",
       "      <td>415</td>\n",
       "      <td>0</td>\n",
       "      <td>1</td>\n",
       "      <td>26</td>\n",
       "      <td>161.6</td>\n",
       "      <td>123</td>\n",
       "      <td>27.47</td>\n",
       "      <td>195.5</td>\n",
       "      <td>103</td>\n",
       "      <td>16.62</td>\n",
       "      <td>254.4</td>\n",
       "      <td>103</td>\n",
       "      <td>11.45</td>\n",
       "      <td>13.7</td>\n",
       "      <td>3</td>\n",
       "      <td>3.70</td>\n",
       "      <td>1</td>\n",
       "      <td>0</td>\n",
       "    </tr>\n",
       "    <tr>\n",
       "      <th>2</th>\n",
       "      <td>31</td>\n",
       "      <td>137</td>\n",
       "      <td>415</td>\n",
       "      <td>0</td>\n",
       "      <td>0</td>\n",
       "      <td>0</td>\n",
       "      <td>243.4</td>\n",
       "      <td>114</td>\n",
       "      <td>41.38</td>\n",
       "      <td>121.2</td>\n",
       "      <td>110</td>\n",
       "      <td>10.30</td>\n",
       "      <td>162.6</td>\n",
       "      <td>104</td>\n",
       "      <td>7.32</td>\n",
       "      <td>12.2</td>\n",
       "      <td>5</td>\n",
       "      <td>3.29</td>\n",
       "      <td>0</td>\n",
       "      <td>0</td>\n",
       "    </tr>\n",
       "    <tr>\n",
       "      <th>3</th>\n",
       "      <td>35</td>\n",
       "      <td>84</td>\n",
       "      <td>408</td>\n",
       "      <td>1</td>\n",
       "      <td>0</td>\n",
       "      <td>0</td>\n",
       "      <td>299.4</td>\n",
       "      <td>71</td>\n",
       "      <td>50.90</td>\n",
       "      <td>61.9</td>\n",
       "      <td>88</td>\n",
       "      <td>5.26</td>\n",
       "      <td>196.9</td>\n",
       "      <td>89</td>\n",
       "      <td>8.86</td>\n",
       "      <td>6.6</td>\n",
       "      <td>7</td>\n",
       "      <td>1.78</td>\n",
       "      <td>2</td>\n",
       "      <td>0</td>\n",
       "    </tr>\n",
       "    <tr>\n",
       "      <th>4</th>\n",
       "      <td>36</td>\n",
       "      <td>75</td>\n",
       "      <td>415</td>\n",
       "      <td>1</td>\n",
       "      <td>0</td>\n",
       "      <td>0</td>\n",
       "      <td>166.7</td>\n",
       "      <td>113</td>\n",
       "      <td>28.34</td>\n",
       "      <td>148.3</td>\n",
       "      <td>122</td>\n",
       "      <td>12.61</td>\n",
       "      <td>186.9</td>\n",
       "      <td>121</td>\n",
       "      <td>8.41</td>\n",
       "      <td>10.1</td>\n",
       "      <td>3</td>\n",
       "      <td>2.73</td>\n",
       "      <td>3</td>\n",
       "      <td>0</td>\n",
       "    </tr>\n",
       "    <tr>\n",
       "      <th>...</th>\n",
       "      <td>...</td>\n",
       "      <td>...</td>\n",
       "      <td>...</td>\n",
       "      <td>...</td>\n",
       "      <td>...</td>\n",
       "      <td>...</td>\n",
       "      <td>...</td>\n",
       "      <td>...</td>\n",
       "      <td>...</td>\n",
       "      <td>...</td>\n",
       "      <td>...</td>\n",
       "      <td>...</td>\n",
       "      <td>...</td>\n",
       "      <td>...</td>\n",
       "      <td>...</td>\n",
       "      <td>...</td>\n",
       "      <td>...</td>\n",
       "      <td>...</td>\n",
       "      <td>...</td>\n",
       "      <td>...</td>\n",
       "    </tr>\n",
       "    <tr>\n",
       "      <th>2661</th>\n",
       "      <td>40</td>\n",
       "      <td>79</td>\n",
       "      <td>415</td>\n",
       "      <td>0</td>\n",
       "      <td>0</td>\n",
       "      <td>0</td>\n",
       "      <td>134.7</td>\n",
       "      <td>98</td>\n",
       "      <td>22.90</td>\n",
       "      <td>189.7</td>\n",
       "      <td>68</td>\n",
       "      <td>16.12</td>\n",
       "      <td>221.4</td>\n",
       "      <td>128</td>\n",
       "      <td>9.96</td>\n",
       "      <td>11.8</td>\n",
       "      <td>5</td>\n",
       "      <td>3.19</td>\n",
       "      <td>2</td>\n",
       "      <td>0</td>\n",
       "    </tr>\n",
       "    <tr>\n",
       "      <th>2662</th>\n",
       "      <td>3</td>\n",
       "      <td>192</td>\n",
       "      <td>415</td>\n",
       "      <td>0</td>\n",
       "      <td>1</td>\n",
       "      <td>36</td>\n",
       "      <td>156.2</td>\n",
       "      <td>77</td>\n",
       "      <td>26.55</td>\n",
       "      <td>215.5</td>\n",
       "      <td>126</td>\n",
       "      <td>18.32</td>\n",
       "      <td>279.1</td>\n",
       "      <td>83</td>\n",
       "      <td>12.56</td>\n",
       "      <td>9.9</td>\n",
       "      <td>6</td>\n",
       "      <td>2.67</td>\n",
       "      <td>2</td>\n",
       "      <td>0</td>\n",
       "    </tr>\n",
       "    <tr>\n",
       "      <th>2663</th>\n",
       "      <td>49</td>\n",
       "      <td>68</td>\n",
       "      <td>415</td>\n",
       "      <td>0</td>\n",
       "      <td>0</td>\n",
       "      <td>0</td>\n",
       "      <td>231.1</td>\n",
       "      <td>57</td>\n",
       "      <td>39.29</td>\n",
       "      <td>153.4</td>\n",
       "      <td>55</td>\n",
       "      <td>13.04</td>\n",
       "      <td>191.3</td>\n",
       "      <td>123</td>\n",
       "      <td>8.61</td>\n",
       "      <td>9.6</td>\n",
       "      <td>4</td>\n",
       "      <td>2.59</td>\n",
       "      <td>3</td>\n",
       "      <td>0</td>\n",
       "    </tr>\n",
       "    <tr>\n",
       "      <th>2664</th>\n",
       "      <td>39</td>\n",
       "      <td>28</td>\n",
       "      <td>510</td>\n",
       "      <td>0</td>\n",
       "      <td>0</td>\n",
       "      <td>0</td>\n",
       "      <td>180.8</td>\n",
       "      <td>109</td>\n",
       "      <td>30.74</td>\n",
       "      <td>288.8</td>\n",
       "      <td>58</td>\n",
       "      <td>24.55</td>\n",
       "      <td>191.9</td>\n",
       "      <td>91</td>\n",
       "      <td>8.64</td>\n",
       "      <td>14.1</td>\n",
       "      <td>6</td>\n",
       "      <td>3.81</td>\n",
       "      <td>2</td>\n",
       "      <td>0</td>\n",
       "    </tr>\n",
       "    <tr>\n",
       "      <th>2665</th>\n",
       "      <td>42</td>\n",
       "      <td>74</td>\n",
       "      <td>415</td>\n",
       "      <td>0</td>\n",
       "      <td>1</td>\n",
       "      <td>25</td>\n",
       "      <td>234.4</td>\n",
       "      <td>113</td>\n",
       "      <td>39.85</td>\n",
       "      <td>265.9</td>\n",
       "      <td>82</td>\n",
       "      <td>22.60</td>\n",
       "      <td>241.4</td>\n",
       "      <td>77</td>\n",
       "      <td>10.86</td>\n",
       "      <td>13.7</td>\n",
       "      <td>4</td>\n",
       "      <td>3.70</td>\n",
       "      <td>0</td>\n",
       "      <td>0</td>\n",
       "    </tr>\n",
       "  </tbody>\n",
       "</table>\n",
       "<p>2666 rows × 20 columns</p>\n",
       "</div>"
      ],
      "text/plain": [
       "      State  Account length  Area code  International plan  Voice mail plan  \\\n",
       "0        16             128        415                   0                1   \n",
       "1        35             107        415                   0                1   \n",
       "2        31             137        415                   0                0   \n",
       "3        35              84        408                   1                0   \n",
       "4        36              75        415                   1                0   \n",
       "...     ...             ...        ...                 ...              ...   \n",
       "2661     40              79        415                   0                0   \n",
       "2662      3             192        415                   0                1   \n",
       "2663     49              68        415                   0                0   \n",
       "2664     39              28        510                   0                0   \n",
       "2665     42              74        415                   0                1   \n",
       "\n",
       "      Number vmail messages  Total day minutes  Total day calls  \\\n",
       "0                        25              265.1              110   \n",
       "1                        26              161.6              123   \n",
       "2                         0              243.4              114   \n",
       "3                         0              299.4               71   \n",
       "4                         0              166.7              113   \n",
       "...                     ...                ...              ...   \n",
       "2661                      0              134.7               98   \n",
       "2662                     36              156.2               77   \n",
       "2663                      0              231.1               57   \n",
       "2664                      0              180.8              109   \n",
       "2665                     25              234.4              113   \n",
       "\n",
       "      Total day charge  Total eve minutes  Total eve calls  Total eve charge  \\\n",
       "0                45.07              197.4               99             16.78   \n",
       "1                27.47              195.5              103             16.62   \n",
       "2                41.38              121.2              110             10.30   \n",
       "3                50.90               61.9               88              5.26   \n",
       "4                28.34              148.3              122             12.61   \n",
       "...                ...                ...              ...               ...   \n",
       "2661             22.90              189.7               68             16.12   \n",
       "2662             26.55              215.5              126             18.32   \n",
       "2663             39.29              153.4               55             13.04   \n",
       "2664             30.74              288.8               58             24.55   \n",
       "2665             39.85              265.9               82             22.60   \n",
       "\n",
       "      Total night minutes  Total night calls  Total night charge  \\\n",
       "0                   244.7                 91               11.01   \n",
       "1                   254.4                103               11.45   \n",
       "2                   162.6                104                7.32   \n",
       "3                   196.9                 89                8.86   \n",
       "4                   186.9                121                8.41   \n",
       "...                   ...                ...                 ...   \n",
       "2661                221.4                128                9.96   \n",
       "2662                279.1                 83               12.56   \n",
       "2663                191.3                123                8.61   \n",
       "2664                191.9                 91                8.64   \n",
       "2665                241.4                 77               10.86   \n",
       "\n",
       "      Total intl minutes  Total intl calls  Total intl charge  \\\n",
       "0                   10.0                 3               2.70   \n",
       "1                   13.7                 3               3.70   \n",
       "2                   12.2                 5               3.29   \n",
       "3                    6.6                 7               1.78   \n",
       "4                   10.1                 3               2.73   \n",
       "...                  ...               ...                ...   \n",
       "2661                11.8                 5               3.19   \n",
       "2662                 9.9                 6               2.67   \n",
       "2663                 9.6                 4               2.59   \n",
       "2664                14.1                 6               3.81   \n",
       "2665                13.7                 4               3.70   \n",
       "\n",
       "      Customer service calls  Churn  \n",
       "0                          1      0  \n",
       "1                          1      0  \n",
       "2                          0      0  \n",
       "3                          2      0  \n",
       "4                          3      0  \n",
       "...                      ...    ...  \n",
       "2661                       2      0  \n",
       "2662                       2      0  \n",
       "2663                       3      0  \n",
       "2664                       2      0  \n",
       "2665                       0      0  \n",
       "\n",
       "[2666 rows x 20 columns]"
      ]
     },
     "execution_count": 27,
     "metadata": {},
     "output_type": "execute_result"
    }
   ],
   "source": [
    "df"
   ]
  },
  {
   "cell_type": "code",
   "execution_count": 28,
   "id": "606705c2",
   "metadata": {},
   "outputs": [
    {
     "data": {
      "text/plain": [
       "<Axes: >"
      ]
     },
     "execution_count": 28,
     "metadata": {},
     "output_type": "execute_result"
    },
    {
     "data": {
      "image/png": "[encoded data removed]",
      "text/plain": [
       "<Figure size 720x576 with 1 Axes>"
      ]
     },
     "metadata": {
      "needs_background": "light"
     },
     "output_type": "display_data"
    }
   ],
   "source": [
    "numeric_df = df.select_dtypes(include=[np.number])\n",
    "\n",
    "# Compute the correlation\n",
    "target_corr = numeric_df.corr()['Churn'].sort_values(ascending=False)\n",
    "\n",
    "# Plot the correlation\n",
    "plt.figure(figsize=(10, 8))\n",
    "target_corr.plot(kind='bar')\n"
   ]
  },
  {
   "cell_type": "code",
   "execution_count": 29,
   "id": "62e7f9f2",
   "metadata": {},
   "outputs": [
    {
     "data": {
      "text/plain": [
       "<Axes: >"
      ]
     },
     "execution_count": 29,
     "metadata": {},
     "output_type": "execute_result"
    },
    {
     "data": {
      "image/png": "[encoded data removed]",
      "text/plain": [
       "<Figure size 720x576 with 2 Axes>"
      ]
     },
     "metadata": {
      "needs_background": "light"
     },
     "output_type": "display_data"
    }
   ],
   "source": [
    "# Compute the correlation\n",
    "corr = numeric_df.corr()\n",
    "\n",
    "# Filter for high correlations\n",
    "high_corr = corr[abs(corr) > 0.5].fillna(0)\n",
    "\n",
    "# Plot the heatmap\n",
    "plt.figure(figsize=(10, 8))\n",
    "sns.heatmap(high_corr, cmap='coolwarm', annot=True, linewidths=.5)"
   ]
  },
  {
   "cell_type": "code",
   "execution_count": 30,
   "id": "2379b893",
   "metadata": {},
   "outputs": [],
   "source": [
    "to_drop = ['State', 'Total day minutes', 'Total eve minutes', 'Total night minutes', 'Total intl minutes']"
   ]
  },
  {
   "cell_type": "markdown",
   "id": "494513c5",
   "metadata": {},
   "source": [
    "## Data preprocessing"
   ]
  },
  {
   "cell_type": "code",
   "execution_count": 31,
   "id": "98d77d49",
   "metadata": {},
   "outputs": [],
   "source": [
    "df.drop(to_drop, axis = 1, inplace = True)"
   ]
  },
  {
   "cell_type": "code",
   "execution_count": 32,
   "id": "0803d563",
   "metadata": {},
   "outputs": [],
   "source": [
    "X = df.drop('Churn', axis=1)"
   ]
  },
  {
   "cell_type": "code",
   "execution_count": 33,
   "id": "daa46090",
   "metadata": {},
   "outputs": [],
   "source": [
    "X_train, X_test, y_train, y_test = train_test_split(X, y, test_size = 0.25, random_state= 42, stratify=y)"
   ]
  },
  {
   "cell_type": "markdown",
   "id": "85da1afc",
   "metadata": {},
   "source": [
    "## Model Selection"
   ]
  },
  {
   "cell_type": "code",
   "execution_count": 34,
   "id": "688c41dd",
   "metadata": {},
   "outputs": [
    {
     "name": "stdout",
     "output_type": "stream",
     "text": [
      "Best parameters for LogisticRegression: {'clf__C': 0.1}\n",
      "Best parameters for MultinomialNB: {'clf__alpha': 10}\n"
     ]
    },
    {
     "name": "stderr",
     "output_type": "stream",
     "text": [
      "C:\\Users\\AMB\\anaconda3\\lib\\site-packages\\sklearn\\linear_model\\_logistic.py:814: ConvergenceWarning: lbfgs failed to converge (status=1):\n",
      "STOP: TOTAL NO. of ITERATIONS REACHED LIMIT.\n",
      "\n",
      "Increase the number of iterations (max_iter) or scale the data as shown in:\n",
      "    https://scikit-learn.org/stable/modules/preprocessing.html\n",
      "Please also refer to the documentation for alternative solver options:\n",
      "    https://scikit-learn.org/stable/modules/linear_model.html#logistic-regression\n",
      "  n_iter_i = _check_optimize_result(\n"
     ]
    }
   ],
   "source": [
    "models = {\n",
    "    'LogisticRegression': LogisticRegression(),\n",
    "    'MultinomialNB': MultinomialNB()\n",
    "}\n",
    "param_grids = {\n",
    "    'LogisticRegression': {'clf__C': [0.1, 1, 10]},\n",
    "    'MultinomialNB': {'clf__alpha': [0.1, 1, 10]}\n",
    "}\n",
    "\n",
    "best_models = {}\n",
    "for name in models:\n",
    "    pipeline = Pipeline([\n",
    "        ('clf', models[name])\n",
    "    ])\n",
    "    grid_search = GridSearchCV(pipeline, param_grids[name], cv=5, scoring='accuracy', n_jobs=-1)\n",
    "    model=grid_search.fit(X_train, y_train)\n",
    "    y_pred = model.predict(X_test)\n",
    "    best_models[name] = (grid_search.best_estimator_,accuracy_score(y_test, y_pred))\n",
    "    print(f\"Best parameters for {name}: {grid_search.best_params_}\")"
   ]
  },
  {
   "cell_type": "code",
   "execution_count": 35,
   "id": "62db0fc6",
   "metadata": {},
   "outputs": [
    {
     "name": "stdout",
     "output_type": "stream",
     "text": [
      "Evaluation for LogisticRegression:\n",
      "Accuracy: 0.8470764617691154\n",
      "              precision    recall  f1-score   support\n",
      "\n",
      "           0       0.86      0.98      0.92       570\n",
      "           1       0.33      0.05      0.09        97\n",
      "\n",
      "    accuracy                           0.85       667\n",
      "   macro avg       0.60      0.52      0.50       667\n",
      "weighted avg       0.78      0.85      0.80       667\n",
      "\n",
      "[[560  10]\n",
      " [ 92   5]]\n",
      "Evaluation for MultinomialNB:\n",
      "Accuracy: 0.5097451274362819\n",
      "              precision    recall  f1-score   support\n",
      "\n",
      "           0       0.91      0.47      0.62       570\n",
      "           1       0.19      0.74      0.31        97\n",
      "\n",
      "    accuracy                           0.51       667\n",
      "   macro avg       0.55      0.61      0.46       667\n",
      "weighted avg       0.81      0.51      0.58       667\n",
      "\n",
      "[[268 302]\n",
      " [ 25  72]]\n"
     ]
    }
   ],
   "source": [
    "for name, model in best_models.items():\n",
    "    y_pred = model[0].predict(X_test)\n",
    "    print(f\"Evaluation for {name}:\")\n",
    "    print(f\"Accuracy: {accuracy_score(y_test, y_pred)}\")\n",
    "    print(classification_report(y_test, y_pred))\n",
    "    print(confusion_matrix(y_test, y_pred))"
   ]
  },
  {
   "cell_type": "code",
   "execution_count": 36,
   "id": "15215df4",
   "metadata": {},
   "outputs": [
    {
     "name": "stdout",
     "output_type": "stream",
     "text": [
      "The best model is LogisticRegression with an accuracy of 0.8471\n"
     ]
    }
   ],
   "source": [
    "best_model_name = max(best_models, key=lambda name: best_models[name][1])\n",
    "best_model = best_models[best_model_name][0]\n",
    "\n",
    "print(f\"The best model is {best_model_name} with an accuracy of {best_models[best_model_name][1]:.4f}\")"
   ]
  },
  {
   "cell_type": "markdown",
   "id": "24c2664f",
   "metadata": {},
   "source": [
    "## Model Evaluation"
   ]
  },
  {
   "cell_type": "code",
   "execution_count": 37,
   "id": "ec8dc68a",
   "metadata": {},
   "outputs": [
    {
     "name": "stdout",
     "output_type": "stream",
     "text": [
      "Final Evaluation for LogisticRegression:\n",
      "Classification Report:\n",
      "              precision    recall  f1-score   support\n",
      "\n",
      "           0       0.86      0.98      0.92       570\n",
      "           1       0.33      0.05      0.09        97\n",
      "\n",
      "    accuracy                           0.85       667\n",
      "   macro avg       0.60      0.52      0.50       667\n",
      "weighted avg       0.78      0.85      0.80       667\n",
      "\n",
      "LogisticRegression Confusion Matrix:\n",
      "[[560  10]\n",
      " [ 92   5]]\n"
     ]
    }
   ],
   "source": [
    "y_pred = best_model.predict(X_test)\n",
    "\n",
    "print(f\"Final Evaluation for {best_model_name}:\")\n",
    "print(\"Classification Report:\")\n",
    "print(classification_report(y_test, y_pred))\n",
    "\n",
    "cm = confusion_matrix(y_test, y_pred)\n",
    "print(f\"{best_model_name} Confusion Matrix:\")\n",
    "print(cm)"
   ]
  },
  {
   "cell_type": "code",
   "execution_count": 38,
   "id": "a4009a0a",
   "metadata": {},
   "outputs": [
    {
     "data": {
      "image/png": "[encoded data removed]",
      "text/plain": [
       "<Figure size 432x288 with 2 Axes>"
      ]
     },
     "metadata": {
      "needs_background": "light"
     },
     "output_type": "display_data"
    }
   ],
   "source": [
    "disp = ConfusionMatrixDisplay(confusion_matrix=cm, display_labels=best_model.classes_)\n",
    "disp.plot(cmap=plt.cm.Blues)\n",
    "plt.title(f\"Confusion Matrix for {best_model_name}\");"
   ]
  },
  {
   "cell_type": "code",
   "execution_count": null,
   "id": "65ac71a7",
   "metadata": {},
   "outputs": [],
   "source": []
  }
 ],
 "metadata": {
  "kernelspec": {
   "display_name": "Python 3 (ipykernel)",
   "language": "python",
   "name": "python3"
  },
  "language_info": {
   "codemirror_mode": {
    "name": "ipython",
    "version": 3
   },
   "file_extension": ".py",
   "mimetype": "text/x-python",
   "name": "python",
   "nbconvert_exporter": "python",
   "pygments_lexer": "ipython3",
   "version": "3.9.12"
  }
 },
 "nbformat": 4,
 "nbformat_minor": 5
}
